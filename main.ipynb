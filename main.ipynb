{
 "cells": [
  {
   "cell_type": "markdown",
   "metadata": {},
   "source": [
    "# Machine Learning project\n",
    "- Validate exoplanets Kepler disposition with machine learning methods"
   ]
  },
  {
   "cell_type": "code",
   "execution_count": 87,
   "metadata": {},
   "outputs": [],
   "source": [
    "import numpy as np\n",
    "import pandas as pd\n",
    "import matplotlib.pyplot as plt\n",
    "import seaborn as sns\n",
    "\n",
    "from sklearn.linear_model import LogisticRegression\n",
    "from sklearn.metrics import accuracy_score, confusion_matrix, f1_score, classification_report\n",
    "from sklearn.model_selection import train_test_split\n",
    "from sklearn.preprocessing import StandardScaler, PolynomialFeatures"
   ]
  },
  {
   "cell_type": "markdown",
   "metadata": {},
   "source": [
    "## Dataset\n"
   ]
  },
  {
   "cell_type": "code",
   "execution_count": 88,
   "metadata": {},
   "outputs": [
    {
     "name": "stdout",
     "output_type": "stream",
     "text": [
      "Amount of the columns in the dataset 49\n"
     ]
    }
   ],
   "source": [
    "df = pd.read_csv('q1_q17_dr24_koi_2023.09.19_04.32.41.csv')\n",
    "# Rename the columns into more readable names\n",
    "df.columns =['KepID',\"KOIName\",\"KeplerName\",\"ExoplanetArchiveDisposition\",\n",
    "\"ExoplanetDispositionKepler\",\"DispositionScore\",\"NotTransit-LikeFalsePositiveFlag\",\n",
    "\"koi_fpflag_ss\",\"CentroidOffsetFalsePositiveFlag\",\"EphemerisMatchIndicatesContaminationFalsePositiveFlag\",\n",
    "\"OrbitalPeriod.[Days]\",\"OrbitalPeriodErr1.[Days]\",\"OrbitalPeriodErr2.[Days]\",\n",
    "\"TransitEpoch-bk\",\"TransitEpoch-bkErr1\",\"TransitEpoch-bkErr2\",\n",
    "\"ImpactParameter\",\"ImpactParameterErr1\",\"ImpactParameterErr2\",\n",
    "\"TransitDuration.[Hours]\",\"TransitDurationErr1.[Hours]\",\"TransitDurationErr2.[Hours]\",\n",
    "\"TransitDepth.[ppm]\",\"TransitDepthErr1.[ppm]\",\"TransitDepthErr2.[ppm]\",\n",
    "\"PlanetaryRadius\",\"PlanetaryRadiusErr1\",\"PlanetaryRadiusErr2\",\n",
    "\"EquilibriumTemperature.[K]\",\"EquilibriumTemperatureErr1.[K]\",\"EquilibriumTemperatureErr2.[K]\",\n",
    "\"InsolationFlux\",\"InsolationFluxErr1\",\"InsolationFlux2\",\n",
    "\"TransitSignalToNoise\",\n",
    "\"TCEPlanetNumber\",\"TCEDeliveryName\",\n",
    "\"StellarEffectiveTemperature.[K]\",\"StellarEffectiveTemperatureErr1.[K]\",\"StellarEffectiveTemperatureErr2.[K]\",\n",
    "\"StellarSurfaceGravity\",\"StellarSurfaceGravityErr1\",\"StellarSurfaceGravityErr2\",\n",
    "\"StellarRadius\",\"StellarRadiusErr1\",\"StellarRadiusErr2\",\n",
    "\"RA.[deg]\",\"Dec.[deg]\",\"KeplerMagnitude.[mag]\"]\n",
    "\n",
    "print(\"Amount of the columns in the dataset\", len(df.columns))"
   ]
  },
  {
   "cell_type": "markdown",
   "metadata": {},
   "source": [
    "# Modify dataframe\n",
    "Modify and exoplanets disposition calculated by Kepler into binary form. \n",
    "This will be our label vector."
   ]
  },
  {
   "cell_type": "code",
   "execution_count": 89,
   "metadata": {},
   "outputs": [],
   "source": [
    "df['ExoplanetCandidate'] = df['ExoplanetDispositionKepler'].apply(lambda x: 0 if x == 'FALSE POSITIVE' else 1)"
   ]
  },
  {
   "cell_type": "markdown",
   "metadata": {},
   "source": [
    "Clean the dataframe"
   ]
  },
  {
   "cell_type": "code",
   "execution_count": 90,
   "metadata": {},
   "outputs": [
    {
     "data": {
      "text/html": [
       "<div>\n",
       "<style scoped>\n",
       "    .dataframe tbody tr th:only-of-type {\n",
       "        vertical-align: middle;\n",
       "    }\n",
       "\n",
       "    .dataframe tbody tr th {\n",
       "        vertical-align: top;\n",
       "    }\n",
       "\n",
       "    .dataframe thead th {\n",
       "        text-align: right;\n",
       "    }\n",
       "</style>\n",
       "<table border=\"1\" class=\"dataframe\">\n",
       "  <thead>\n",
       "    <tr style=\"text-align: right;\">\n",
       "      <th></th>\n",
       "      <th>OrbitalPeriod.[Days]</th>\n",
       "      <th>ImpactParameter</th>\n",
       "      <th>TransitDuration.[Hours]</th>\n",
       "      <th>TransitDepth.[ppm]</th>\n",
       "      <th>PlanetaryRadius</th>\n",
       "      <th>EquilibriumTemperature.[K]</th>\n",
       "      <th>InsolationFlux</th>\n",
       "      <th>TransitSignalToNoise</th>\n",
       "      <th>StellarSurfaceGravity</th>\n",
       "      <th>RA.[deg]</th>\n",
       "      <th>Dec.[deg]</th>\n",
       "      <th>KeplerMagnitude.[mag]</th>\n",
       "      <th>ExoplanetCandidate</th>\n",
       "    </tr>\n",
       "  </thead>\n",
       "  <tbody>\n",
       "    <tr>\n",
       "      <th>0</th>\n",
       "      <td>2.470613</td>\n",
       "      <td>0.8186</td>\n",
       "      <td>1.74259</td>\n",
       "      <td>14186.0</td>\n",
       "      <td>12.85</td>\n",
       "      <td>1344.0</td>\n",
       "      <td>772.22</td>\n",
       "      <td>6802.0</td>\n",
       "      <td>4.455</td>\n",
       "      <td>286.80847</td>\n",
       "      <td>49.316399</td>\n",
       "      <td>11.338</td>\n",
       "      <td>1</td>\n",
       "    </tr>\n",
       "    <tr>\n",
       "      <th>1</th>\n",
       "      <td>2.204735</td>\n",
       "      <td>0.0010</td>\n",
       "      <td>3.88216</td>\n",
       "      <td>6690.6</td>\n",
       "      <td>16.39</td>\n",
       "      <td>2025.0</td>\n",
       "      <td>3973.70</td>\n",
       "      <td>6714.5</td>\n",
       "      <td>4.021</td>\n",
       "      <td>292.24728</td>\n",
       "      <td>47.969521</td>\n",
       "      <td>10.463</td>\n",
       "      <td>1</td>\n",
       "    </tr>\n",
       "    <tr>\n",
       "      <th>2</th>\n",
       "      <td>4.887803</td>\n",
       "      <td>0.0260</td>\n",
       "      <td>2.36386</td>\n",
       "      <td>4342.1</td>\n",
       "      <td>4.84</td>\n",
       "      <td>801.0</td>\n",
       "      <td>97.10</td>\n",
       "      <td>2207.8</td>\n",
       "      <td>4.590</td>\n",
       "      <td>297.70935</td>\n",
       "      <td>48.080853</td>\n",
       "      <td>9.174</td>\n",
       "      <td>1</td>\n",
       "    </tr>\n",
       "    <tr>\n",
       "      <th>3</th>\n",
       "      <td>3.849372</td>\n",
       "      <td>0.9193</td>\n",
       "      <td>2.66050</td>\n",
       "      <td>1317.3</td>\n",
       "      <td>13.10</td>\n",
       "      <td>2035.0</td>\n",
       "      <td>4055.29</td>\n",
       "      <td>262.6</td>\n",
       "      <td>3.657</td>\n",
       "      <td>294.35654</td>\n",
       "      <td>38.947380</td>\n",
       "      <td>11.432</td>\n",
       "      <td>1</td>\n",
       "    </tr>\n",
       "    <tr>\n",
       "      <th>4</th>\n",
       "      <td>4.780328</td>\n",
       "      <td>0.9516</td>\n",
       "      <td>2.03490</td>\n",
       "      <td>977.2</td>\n",
       "      <td>7.07</td>\n",
       "      <td>1396.0</td>\n",
       "      <td>898.71</td>\n",
       "      <td>383.4</td>\n",
       "      <td>4.003</td>\n",
       "      <td>289.73972</td>\n",
       "      <td>44.647419</td>\n",
       "      <td>11.665</td>\n",
       "      <td>1</td>\n",
       "    </tr>\n",
       "  </tbody>\n",
       "</table>\n",
       "</div>"
      ],
      "text/plain": [
       "   OrbitalPeriod.[Days]  ImpactParameter  TransitDuration.[Hours]  \\\n",
       "0              2.470613           0.8186                  1.74259   \n",
       "1              2.204735           0.0010                  3.88216   \n",
       "2              4.887803           0.0260                  2.36386   \n",
       "3              3.849372           0.9193                  2.66050   \n",
       "4              4.780328           0.9516                  2.03490   \n",
       "\n",
       "   TransitDepth.[ppm]  PlanetaryRadius  EquilibriumTemperature.[K]  \\\n",
       "0             14186.0            12.85                      1344.0   \n",
       "1              6690.6            16.39                      2025.0   \n",
       "2              4342.1             4.84                       801.0   \n",
       "3              1317.3            13.10                      2035.0   \n",
       "4               977.2             7.07                      1396.0   \n",
       "\n",
       "   InsolationFlux  TransitSignalToNoise  StellarSurfaceGravity   RA.[deg]  \\\n",
       "0          772.22                6802.0                  4.455  286.80847   \n",
       "1         3973.70                6714.5                  4.021  292.24728   \n",
       "2           97.10                2207.8                  4.590  297.70935   \n",
       "3         4055.29                 262.6                  3.657  294.35654   \n",
       "4          898.71                 383.4                  4.003  289.73972   \n",
       "\n",
       "   Dec.[deg]  KeplerMagnitude.[mag]  ExoplanetCandidate  \n",
       "0  49.316399                 11.338                   1  \n",
       "1  47.969521                 10.463                   1  \n",
       "2  48.080853                  9.174                   1  \n",
       "3  38.947380                 11.432                   1  \n",
       "4  44.647419                 11.665                   1  "
      ]
     },
     "execution_count": 90,
     "metadata": {},
     "output_type": "execute_result"
    }
   ],
   "source": [
    "# Create dataframe with selected columns\n",
    "\"\"\"\n",
    "Selected columns:\n",
    "\"OrbitalPeriod.[Days]\",\n",
    "\"TransitEpoch-bk\",\n",
    "\"ImpactParameter\",\n",
    "\"TransitDuration.[Hours]\",\n",
    "\"TransitDepth.[ppm]\",\n",
    "\"PlanetaryRadius\"\n",
    "\"EquilibriumTemperature.[K]\",\n",
    "\"InsolationFlux\",\n",
    "\"TransitSignalToNoise\",\n",
    "\"StellarSurfaceGravity\",\n",
    "\"RA.[deg]\",\"Dec.[deg]\",\"KeplerMagnitude.[mag]\"]\"\"\"\n",
    "\n",
    "df = df.drop(columns=['KepID',\"KOIName\",\"KeplerName\",\"ExoplanetArchiveDisposition\",\n",
    "\"ExoplanetDispositionKepler\",\"DispositionScore\",\"TransitEpoch-bk\",\"NotTransit-LikeFalsePositiveFlag\",\n",
    "\"koi_fpflag_ss\",\"CentroidOffsetFalsePositiveFlag\",\"EphemerisMatchIndicatesContaminationFalsePositiveFlag\",\n",
    "\"OrbitalPeriodErr1.[Days]\",\"OrbitalPeriodErr2.[Days]\",\n",
    "\"TransitEpoch-bkErr1\",\"TransitEpoch-bkErr2\",\n",
    "\"ImpactParameterErr1\",\"ImpactParameterErr2\",\n",
    "\"TransitDurationErr1.[Hours]\",\"TransitDurationErr2.[Hours]\",\n",
    "\"TransitDepthErr1.[ppm]\",\"TransitDepthErr2.[ppm]\",\n",
    "\"PlanetaryRadiusErr1\",\"PlanetaryRadiusErr2\",\n",
    "\"EquilibriumTemperatureErr1.[K]\",\"EquilibriumTemperatureErr2.[K]\",\n",
    "\"InsolationFluxErr1\",\"InsolationFlux2\",\n",
    "\"TCEPlanetNumber\",\"TCEDeliveryName\",\n",
    "\"StellarEffectiveTemperature.[K]\",\"StellarEffectiveTemperatureErr1.[K]\",\"StellarEffectiveTemperatureErr2.[K]\",\n",
    "\"StellarSurfaceGravityErr1\",\"StellarSurfaceGravityErr2\",\n",
    "\"StellarRadius\",\"StellarRadiusErr1\",\"StellarRadiusErr2\"])\n",
    "df.head()"
   ]
  },
  {
   "cell_type": "markdown",
   "metadata": {},
   "source": [
    "Drop rows from dataframe that include Nan value"
   ]
  },
  {
   "cell_type": "code",
   "execution_count": 91,
   "metadata": {},
   "outputs": [
    {
     "name": "stdout",
     "output_type": "stream",
     "text": [
      "Shape of the original data format (7470, 13)\n",
      "Shape of the cleaned data format (7374, 13)\n"
     ]
    }
   ],
   "source": [
    "df.isna().any()\n",
    "print(\"Shape of the original data format\", df.shape)\n",
    "# Drop the rows that include Nan\n",
    "df_cleaned = df.dropna()\n",
    "print(\"Shape of the cleaned data format\", df_cleaned.shape)"
   ]
  },
  {
   "cell_type": "markdown",
   "metadata": {},
   "source": [
    "# Features and labels\n",
    "Lets create 2 validation sets from the cleaned data frame"
   ]
  },
  {
   "cell_type": "code",
   "execution_count": 92,
   "metadata": {},
   "outputs": [],
   "source": [
    "# Create a feature matrix X and label vector y.\n",
    "y = df_cleaned['ExoplanetCandidate'].to_numpy()\n",
    "X = df_cleaned.drop(columns=['ExoplanetCandidate']).to_numpy()\n",
    "# Create test and training sets\n",
    "    # First split the data into train set that contains 75 % \n",
    "    # and test set that contains 25 % of the data\n",
    "X_train, X_test, y_train, y_test = train_test_split(X, y, test_size=0.25)\n",
    "    # Second split the test set into test set that contains 50 % of the test set\n",
    "X_test2, X_val, y_test2, y_val = train_test_split(X_test, y_test, test_size=0.5)"
   ]
  },
  {
   "cell_type": "code",
   "execution_count": 93,
   "metadata": {},
   "outputs": [
    {
     "name": "stdout",
     "output_type": "stream",
     "text": [
      "Number of zeros in ytrain: 2347\n",
      "Number of ones in ytrain: 3183\n",
      "Number of zeros in ytest: 766\n",
      "Number of ones in ytest: 1078\n"
     ]
    }
   ],
   "source": [
    "# How many zeros are there in the label vector y?\n",
    "print(\"Number of zeros in ytrain:\", np.sum(y_train == 0))\n",
    "print(\"Number of ones in ytrain:\", np.sum(y_train == 1))\n",
    "# Same for second split\n",
    "print(\"Number of zeros in ytest:\", np.sum(y_test == 0))\n",
    "print(\"Number of ones in ytest:\", np.sum(y_test == 1))"
   ]
  },
  {
   "cell_type": "markdown",
   "metadata": {},
   "source": [
    "Features in feature matrix"
   ]
  },
  {
   "cell_type": "code",
   "execution_count": 94,
   "metadata": {},
   "outputs": [
    {
     "name": "stdout",
     "output_type": "stream",
     "text": [
      "OrbitalPeriod.[Days]\n",
      "ImpactParameter\n",
      "TransitDuration.[Hours]\n",
      "TransitDepth.[ppm]\n",
      "PlanetaryRadius\n",
      "EquilibriumTemperature.[K]\n",
      "InsolationFlux\n",
      "TransitSignalToNoise\n",
      "StellarSurfaceGravity\n",
      "RA.[deg]\n",
      "Dec.[deg]\n",
      "KeplerMagnitude.[mag]\n"
     ]
    }
   ],
   "source": [
    "for column in df_cleaned.drop(columns=['ExoplanetCandidate']).columns:\n",
    "    print(column)"
   ]
  },
  {
   "cell_type": "markdown",
   "metadata": {},
   "source": [
    "# Polymial logistic regression model\n",
    "Create a logistic regression model, find the best polynomial and train it with scaled data."
   ]
  },
  {
   "cell_type": "code",
   "execution_count": 95,
   "metadata": {},
   "outputs": [
    {
     "name": "stderr",
     "output_type": "stream",
     "text": [
      "/Library/Frameworks/Python.framework/Versions/3.11/lib/python3.11/site-packages/sklearn/linear_model/_logistic.py:460: ConvergenceWarning: lbfgs failed to converge (status=1):\n",
      "STOP: TOTAL NO. of ITERATIONS REACHED LIMIT.\n",
      "\n",
      "Increase the number of iterations (max_iter) or scale the data as shown in:\n",
      "    https://scikit-learn.org/stable/modules/preprocessing.html\n",
      "Please also refer to the documentation for alternative solver options:\n",
      "    https://scikit-learn.org/stable/modules/linear_model.html#logistic-regression\n",
      "  n_iter_i = _check_optimize_result(\n",
      "/Library/Frameworks/Python.framework/Versions/3.11/lib/python3.11/site-packages/sklearn/linear_model/_logistic.py:460: ConvergenceWarning: lbfgs failed to converge (status=1):\n",
      "STOP: TOTAL NO. of ITERATIONS REACHED LIMIT.\n",
      "\n",
      "Increase the number of iterations (max_iter) or scale the data as shown in:\n",
      "    https://scikit-learn.org/stable/modules/preprocessing.html\n",
      "Please also refer to the documentation for alternative solver options:\n",
      "    https://scikit-learn.org/stable/modules/linear_model.html#logistic-regression\n",
      "  n_iter_i = _check_optimize_result(\n"
     ]
    },
    {
     "name": "stdout",
     "output_type": "stream",
     "text": [
      "Accuracy Score:  0.8015184381778742\n",
      "Degree of the polynomial:  1\n",
      "Accuracy Score with zeros:  0.403470715835141\n"
     ]
    },
    {
     "name": "stderr",
     "output_type": "stream",
     "text": [
      "/Library/Frameworks/Python.framework/Versions/3.11/lib/python3.11/site-packages/sklearn/linear_model/_logistic.py:460: ConvergenceWarning: lbfgs failed to converge (status=1):\n",
      "STOP: TOTAL NO. of ITERATIONS REACHED LIMIT.\n",
      "\n",
      "Increase the number of iterations (max_iter) or scale the data as shown in:\n",
      "    https://scikit-learn.org/stable/modules/preprocessing.html\n",
      "Please also refer to the documentation for alternative solver options:\n",
      "    https://scikit-learn.org/stable/modules/linear_model.html#logistic-regression\n",
      "  n_iter_i = _check_optimize_result(\n"
     ]
    }
   ],
   "source": [
    "save_regression = [0]\n",
    "for degree in range(1,7):\n",
    "    # Create a polynomial logistic regression model\n",
    "    clf_poly = LogisticRegression(C=100, max_iter=4000)\n",
    "    \n",
    "    # Choose the degree of the polynomial\n",
    "    poly = PolynomialFeatures(degree)\n",
    "    # Create the polynomial train features\n",
    "    X_train_poly = poly.fit_transform(X_train)\n",
    "    # Scale the data with StandardScaler\n",
    "    scaler = StandardScaler().fit(X_train_poly)\n",
    "    X_train_poly = scaler.transform(X_train_poly)\n",
    "    # Create the polynomial test features\n",
    "    X_test_poly = poly.fit_transform(X_val)\n",
    "    # Scale the data with StandardScaler\n",
    "    scaler = StandardScaler().fit(X_test_poly)\n",
    "    X_test_poly = scaler.transform(X_test_poly)\n",
    "    # Train the model\n",
    "    clf_poly.fit(X_train_poly, y_train) \n",
    "    # Predict labels\n",
    "    y_pred_poly = clf_poly.predict(X_test_poly) \n",
    "    #Calculate the accuracy score\n",
    "    accuracy = accuracy_score(y_val, y_pred_poly)\n",
    "    # Save the model information if the accuracy is better than the previous one\n",
    "    if save_regression[-1] < accuracy:\n",
    "        save_regression = [clf_poly, X_train_poly, X_test_poly, y_pred_poly, degree, accuracy]\n",
    "\n",
    "# print the best accuracy score, the degree of the polynomial and accuracy against zero label\n",
    "print(\"Accuracy Score: \", save_regression[-1])\n",
    "print(\"Degree of the polynomial: \", save_regression[-2])\n",
    "zeroLabel = np.zeros(len(y_pred_poly))\n",
    "print(\"Accuracy Score with zeros: \", accuracy_score(y_val, zeroLabel))"
   ]
  },
  {
   "cell_type": "markdown",
   "metadata": {},
   "source": [
    "Test the trained model with other test set defined in up. "
   ]
  },
  {
   "cell_type": "code",
   "execution_count": 99,
   "metadata": {},
   "outputs": [
    {
     "name": "stdout",
     "output_type": "stream",
     "text": [
      "Accuracy Score:  0.6540130151843818\n"
     ]
    }
   ],
   "source": [
    "X_train_poly = poly.fit_transform(X_test2)\n",
    "scaler = StandardScaler().fit(X_train_poly)\n",
    "X_train_poly = scaler.transform(X_train_poly)\n",
    "\n",
    "y_pred = clf_poly.predict(X_train_poly) # Predict labels\n",
    "accuracy = accuracy_score(y_test2, y_pred)\n",
    "print(\"Accuracy Score: \", accuracy)"
   ]
  },
  {
   "cell_type": "code",
   "execution_count": 97,
   "metadata": {},
   "outputs": [
    {
     "data": {
      "image/png": "[encoded data removed]",
      "text/plain": [
       "<Figure size 640x480 with 2 Axes>"
      ]
     },
     "metadata": {},
     "output_type": "display_data"
    },
    {
     "data": {
      "text/plain": [
       "0.7599699021820917"
      ]
     },
     "execution_count": 97,
     "metadata": {},
     "output_type": "execute_result"
    }
   ],
   "source": [
    "# Plot the confusion matrix\n",
    "confusionMatrix = confusion_matrix(y_test2, y_pred)\n",
    "sns.heatmap(confusionMatrix, annot=True, fmt='d')\n",
    "plt.xlabel('Predicted')\n",
    "plt.ylabel('Actual')\n",
    "plt.show()\n",
    "# compute f1 score\n",
    "f1_score(y_test2, y_pred)\n"
   ]
  },
  {
   "cell_type": "code",
   "execution_count": 98,
   "metadata": {},
   "outputs": [
    {
     "name": "stdout",
     "output_type": "stream",
     "text": [
      "Classification Report: \n",
      "               precision    recall  f1-score   support\n",
      "\n",
      "           0       0.81      0.25      0.38       394\n",
      "           1       0.63      0.96      0.76       528\n",
      "\n",
      "    accuracy                           0.65       922\n",
      "   macro avg       0.72      0.60      0.57       922\n",
      "weighted avg       0.71      0.65      0.60       922\n",
      "\n"
     ]
    }
   ],
   "source": [
    "# Classification report\n",
    "print(\"Classification Report: \\n\", classification_report(y_test2, y_pred))"
   ]
  },
  {
   "cell_type": "markdown",
   "metadata": {},
   "source": []
  }
 ],
 "metadata": {
  "kernelspec": {
   "display_name": "Python 3",
   "language": "python",
   "name": "python3"
  },
  "language_info": {
   "codemirror_mode": {
    "name": "ipython",
    "version": 3
   },
   "file_extension": ".py",
   "mimetype": "text/x-python",
   "name": "python",
   "nbconvert_exporter": "python",
   "pygments_lexer": "ipython3",
   "version": "3.11.1"
  },
  "orig_nbformat": 4
 },
 "nbformat": 4,
 "nbformat_minor": 2
}
