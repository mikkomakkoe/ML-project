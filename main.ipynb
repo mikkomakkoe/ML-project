{
 "cells": [
  {
   "cell_type": "markdown",
   "metadata": {},
   "source": [
    "# Machine Learning project\n",
    "- Validate exoplanets Kepler disposition with machine learning methods"
   ]
  },
  {
   "cell_type": "code",
   "execution_count": 1,
   "metadata": {},
   "outputs": [],
   "source": [
    "%config Completer.use_jedi = False  # enable code auto-completion\n",
    "import warnings\n",
    "\n",
    "import numpy as np\n",
    "import pandas as pd\n",
    "import matplotlib.pyplot as plt\n",
    "import seaborn as sns  #data visualization library\n",
    "from sklearn.linear_model import LogisticRegression\n",
    "from sklearn.metrics import accuracy_score, confusion_matrix, f1_score, classification_report  # evaluation metrics\n",
    "\n",
    "from sklearn.datasets import fetch_openml \n",
    "from sklearn.model_selection import train_test_split\n",
    "from sklearn.preprocessing import StandardScaler\n",
    "from sklearn.decomposition import PCA"
   ]
  },
  {
   "cell_type": "markdown",
   "metadata": {},
   "source": [
    "## Dataset\n"
   ]
  },
  {
   "cell_type": "code",
   "execution_count": 2,
   "metadata": {},
   "outputs": [
    {
     "data": {
      "text/html": [
       "<div>\n",
       "<style scoped>\n",
       "    .dataframe tbody tr th:only-of-type {\n",
       "        vertical-align: middle;\n",
       "    }\n",
       "\n",
       "    .dataframe tbody tr th {\n",
       "        vertical-align: top;\n",
       "    }\n",
       "\n",
       "    .dataframe thead th {\n",
       "        text-align: right;\n",
       "    }\n",
       "</style>\n",
       "<table border=\"1\" class=\"dataframe\">\n",
       "  <thead>\n",
       "    <tr style=\"text-align: right;\">\n",
       "      <th></th>\n",
       "      <th>KepID</th>\n",
       "      <th>KOIName</th>\n",
       "      <th>KeplerName</th>\n",
       "      <th>ExoplanetArchiveDisposition</th>\n",
       "      <th>ExoplanetDispositionKepler</th>\n",
       "      <th>DispositionScore</th>\n",
       "      <th>NotTransit-LikeFalsePositiveFlag</th>\n",
       "      <th>koi_fpflag_ss</th>\n",
       "      <th>CentroidOffsetFalsePositiveFlag</th>\n",
       "      <th>EphemerisMatchIndicatesContaminationFalsePositiveFlag</th>\n",
       "      <th>...</th>\n",
       "      <th>StellarEffectiveTemperatureErr2.[K]</th>\n",
       "      <th>StellarSurfaceGravity</th>\n",
       "      <th>StellarSurfaceGravityErr1</th>\n",
       "      <th>StellarSurfaceGravityErr2</th>\n",
       "      <th>StellarRadius</th>\n",
       "      <th>StellarRadiusErr1</th>\n",
       "      <th>StellarRadiusErr2</th>\n",
       "      <th>RA.[deg]</th>\n",
       "      <th>Dec.[deg]</th>\n",
       "      <th>KeplerMagnitude.[mag]</th>\n",
       "    </tr>\n",
       "  </thead>\n",
       "  <tbody>\n",
       "    <tr>\n",
       "      <th>0</th>\n",
       "      <td>11446443</td>\n",
       "      <td>K00001.01</td>\n",
       "      <td>Kepler-1 b</td>\n",
       "      <td>CONFIRMED</td>\n",
       "      <td>CANDIDATE</td>\n",
       "      <td>NaN</td>\n",
       "      <td>0</td>\n",
       "      <td>0</td>\n",
       "      <td>0</td>\n",
       "      <td>0</td>\n",
       "      <td>...</td>\n",
       "      <td>-50.0</td>\n",
       "      <td>4.455</td>\n",
       "      <td>0.025</td>\n",
       "      <td>-0.025</td>\n",
       "      <td>0.950</td>\n",
       "      <td>0.020</td>\n",
       "      <td>-0.020</td>\n",
       "      <td>286.80847</td>\n",
       "      <td>49.316399</td>\n",
       "      <td>11.338</td>\n",
       "    </tr>\n",
       "    <tr>\n",
       "      <th>1</th>\n",
       "      <td>10666592</td>\n",
       "      <td>K00002.01</td>\n",
       "      <td>Kepler-2 b</td>\n",
       "      <td>CONFIRMED</td>\n",
       "      <td>CANDIDATE</td>\n",
       "      <td>NaN</td>\n",
       "      <td>0</td>\n",
       "      <td>1</td>\n",
       "      <td>0</td>\n",
       "      <td>0</td>\n",
       "      <td>...</td>\n",
       "      <td>-80.0</td>\n",
       "      <td>4.021</td>\n",
       "      <td>0.011</td>\n",
       "      <td>-0.011</td>\n",
       "      <td>1.991</td>\n",
       "      <td>0.018</td>\n",
       "      <td>-0.018</td>\n",
       "      <td>292.24728</td>\n",
       "      <td>47.969521</td>\n",
       "      <td>10.463</td>\n",
       "    </tr>\n",
       "    <tr>\n",
       "      <th>2</th>\n",
       "      <td>10748390</td>\n",
       "      <td>K00003.01</td>\n",
       "      <td>Kepler-3 b</td>\n",
       "      <td>CONFIRMED</td>\n",
       "      <td>CANDIDATE</td>\n",
       "      <td>NaN</td>\n",
       "      <td>0</td>\n",
       "      <td>0</td>\n",
       "      <td>0</td>\n",
       "      <td>0</td>\n",
       "      <td>...</td>\n",
       "      <td>-91.0</td>\n",
       "      <td>4.590</td>\n",
       "      <td>0.011</td>\n",
       "      <td>-0.041</td>\n",
       "      <td>0.765</td>\n",
       "      <td>0.030</td>\n",
       "      <td>-0.022</td>\n",
       "      <td>297.70935</td>\n",
       "      <td>48.080853</td>\n",
       "      <td>9.174</td>\n",
       "    </tr>\n",
       "    <tr>\n",
       "      <th>3</th>\n",
       "      <td>3861595</td>\n",
       "      <td>K00004.01</td>\n",
       "      <td>Kepler-1658 b</td>\n",
       "      <td>CONFIRMED</td>\n",
       "      <td>CANDIDATE</td>\n",
       "      <td>NaN</td>\n",
       "      <td>0</td>\n",
       "      <td>1</td>\n",
       "      <td>0</td>\n",
       "      <td>0</td>\n",
       "      <td>...</td>\n",
       "      <td>-109.0</td>\n",
       "      <td>3.657</td>\n",
       "      <td>0.205</td>\n",
       "      <td>-0.107</td>\n",
       "      <td>2.992</td>\n",
       "      <td>0.469</td>\n",
       "      <td>-0.743</td>\n",
       "      <td>294.35654</td>\n",
       "      <td>38.947380</td>\n",
       "      <td>11.432</td>\n",
       "    </tr>\n",
       "    <tr>\n",
       "      <th>4</th>\n",
       "      <td>8554498</td>\n",
       "      <td>K00005.01</td>\n",
       "      <td>NaN</td>\n",
       "      <td>CANDIDATE</td>\n",
       "      <td>CANDIDATE</td>\n",
       "      <td>NaN</td>\n",
       "      <td>0</td>\n",
       "      <td>0</td>\n",
       "      <td>0</td>\n",
       "      <td>0</td>\n",
       "      <td>...</td>\n",
       "      <td>-75.0</td>\n",
       "      <td>4.003</td>\n",
       "      <td>0.011</td>\n",
       "      <td>-0.011</td>\n",
       "      <td>1.747</td>\n",
       "      <td>0.042</td>\n",
       "      <td>-0.042</td>\n",
       "      <td>289.73972</td>\n",
       "      <td>44.647419</td>\n",
       "      <td>11.665</td>\n",
       "    </tr>\n",
       "  </tbody>\n",
       "</table>\n",
       "<p>5 rows × 49 columns</p>\n",
       "</div>"
      ],
      "text/plain": [
       "      KepID    KOIName     KeplerName ExoplanetArchiveDisposition  \\\n",
       "0  11446443  K00001.01     Kepler-1 b                   CONFIRMED   \n",
       "1  10666592  K00002.01     Kepler-2 b                   CONFIRMED   \n",
       "2  10748390  K00003.01     Kepler-3 b                   CONFIRMED   \n",
       "3   3861595  K00004.01  Kepler-1658 b                   CONFIRMED   \n",
       "4   8554498  K00005.01            NaN                   CANDIDATE   \n",
       "\n",
       "  ExoplanetDispositionKepler  DispositionScore  \\\n",
       "0                  CANDIDATE               NaN   \n",
       "1                  CANDIDATE               NaN   \n",
       "2                  CANDIDATE               NaN   \n",
       "3                  CANDIDATE               NaN   \n",
       "4                  CANDIDATE               NaN   \n",
       "\n",
       "   NotTransit-LikeFalsePositiveFlag  koi_fpflag_ss  \\\n",
       "0                                 0              0   \n",
       "1                                 0              1   \n",
       "2                                 0              0   \n",
       "3                                 0              1   \n",
       "4                                 0              0   \n",
       "\n",
       "   CentroidOffsetFalsePositiveFlag  \\\n",
       "0                                0   \n",
       "1                                0   \n",
       "2                                0   \n",
       "3                                0   \n",
       "4                                0   \n",
       "\n",
       "   EphemerisMatchIndicatesContaminationFalsePositiveFlag  ...  \\\n",
       "0                                                  0      ...   \n",
       "1                                                  0      ...   \n",
       "2                                                  0      ...   \n",
       "3                                                  0      ...   \n",
       "4                                                  0      ...   \n",
       "\n",
       "   StellarEffectiveTemperatureErr2.[K]  StellarSurfaceGravity  \\\n",
       "0                                -50.0                  4.455   \n",
       "1                                -80.0                  4.021   \n",
       "2                                -91.0                  4.590   \n",
       "3                               -109.0                  3.657   \n",
       "4                                -75.0                  4.003   \n",
       "\n",
       "   StellarSurfaceGravityErr1  StellarSurfaceGravityErr2  StellarRadius  \\\n",
       "0                      0.025                     -0.025          0.950   \n",
       "1                      0.011                     -0.011          1.991   \n",
       "2                      0.011                     -0.041          0.765   \n",
       "3                      0.205                     -0.107          2.992   \n",
       "4                      0.011                     -0.011          1.747   \n",
       "\n",
       "   StellarRadiusErr1  StellarRadiusErr2   RA.[deg]  Dec.[deg]  \\\n",
       "0              0.020             -0.020  286.80847  49.316399   \n",
       "1              0.018             -0.018  292.24728  47.969521   \n",
       "2              0.030             -0.022  297.70935  48.080853   \n",
       "3              0.469             -0.743  294.35654  38.947380   \n",
       "4              0.042             -0.042  289.73972  44.647419   \n",
       "\n",
       "   KeplerMagnitude.[mag]  \n",
       "0                 11.338  \n",
       "1                 10.463  \n",
       "2                  9.174  \n",
       "3                 11.432  \n",
       "4                 11.665  \n",
       "\n",
       "[5 rows x 49 columns]"
      ]
     },
     "execution_count": 2,
     "metadata": {},
     "output_type": "execute_result"
    }
   ],
   "source": [
    "df = pd.read_csv('q1_q17_dr24_koi_2023.09.19_04.32.41.csv')\n",
    "# Rename the columns\n",
    "df.columns =['KepID',\"KOIName\",\"KeplerName\",\"ExoplanetArchiveDisposition\",\n",
    "\"ExoplanetDispositionKepler\",\"DispositionScore\",\"NotTransit-LikeFalsePositiveFlag\",\n",
    "\"koi_fpflag_ss\",\"CentroidOffsetFalsePositiveFlag\",\"EphemerisMatchIndicatesContaminationFalsePositiveFlag\",\n",
    "\"OrbitalPeriod.[Days]\",\"OrbitalPeriodErr1.[Days]\",\"OrbitalPeriodErr2.[Days]\",\n",
    "\"TransitEpoch-bk\",\"TransitEpoch-bkErr1\",\"TransitEpoch-bkErr2\",\n",
    "\"ImpactParameter\",\"ImpactParameterErr1\",\"ImpactParameterErr2\",\n",
    "\"TransitDuration.[Hours]\",\"TransitDurationErr1.[Hours]\",\"TransitDurationErr2.[Hours]\",\n",
    "\"TransitDepth.[ppm]\",\"TransitDepthErr1.[ppm]\",\"TransitDepthErr2.[ppm]\",\n",
    "\"PlanetaryRadius\",\"PlanetaryRadiusErr1\",\"PlanetaryRadiusErr2\",\n",
    "\"EquilibriumTemperature.[K]\",\"EquilibriumTemperatureErr1.[K]\",\"EquilibriumTemperatureErr2.[K]\",\n",
    "\"InsolationFlux\",\"InsolationFluxErr1\",\"InsolationFlux2\",\n",
    "\"TransitSignalToNoise\",\n",
    "\"TCEPlanetNumber\",\"TCEDeliveryName\",\n",
    "\"StellarEffectiveTemperature.[K]\",\"StellarEffectiveTemperatureErr1.[K]\",\"StellarEffectiveTemperatureErr2.[K]\",\n",
    "\"StellarSurfaceGravity\",\"StellarSurfaceGravityErr1\",\"StellarSurfaceGravityErr2\",\n",
    "\"StellarRadius\",\"StellarRadiusErr1\",\"StellarRadiusErr2\",\n",
    "\"RA.[deg]\",\"Dec.[deg]\",\"KeplerMagnitude.[mag]\"]\n",
    "\n",
    "df.head()"
   ]
  },
  {
   "cell_type": "markdown",
   "metadata": {},
   "source": [
    "# Modify dispositions\n",
    "Modify KOI pdisposition and KOI disposition into binary form"
   ]
  },
  {
   "cell_type": "code",
   "execution_count": 3,
   "metadata": {},
   "outputs": [],
   "source": [
    "# Drop columns that are not needed\n",
    "df['ExoplanetCandidate'] = df['ExoplanetArchiveDisposition'].apply(lambda x: 1 if x == 'CANDIDATE' else 0)\n",
    "df['ExoplanetConfirmed'] = df['ExoplanetDispositionKepler'].apply(lambda x: 2 if x == 'CONFIRMED' else 1 if x == 'CANDIDATE' else 0 )"
   ]
  },
  {
   "cell_type": "markdown",
   "metadata": {},
   "source": [
    "# Modify dataframe\n",
    "Drop columns that are inconvenient. "
   ]
  },
  {
   "cell_type": "code",
   "execution_count": 4,
   "metadata": {},
   "outputs": [
    {
     "data": {
      "text/html": [
       "<div>\n",
       "<style scoped>\n",
       "    .dataframe tbody tr th:only-of-type {\n",
       "        vertical-align: middle;\n",
       "    }\n",
       "\n",
       "    .dataframe tbody tr th {\n",
       "        vertical-align: top;\n",
       "    }\n",
       "\n",
       "    .dataframe thead th {\n",
       "        text-align: right;\n",
       "    }\n",
       "</style>\n",
       "<table border=\"1\" class=\"dataframe\">\n",
       "  <thead>\n",
       "    <tr style=\"text-align: right;\">\n",
       "      <th></th>\n",
       "      <th>OrbitalPeriod.[Days]</th>\n",
       "      <th>OrbitalPeriodErr1.[Days]</th>\n",
       "      <th>OrbitalPeriodErr2.[Days]</th>\n",
       "      <th>TransitEpoch-bk</th>\n",
       "      <th>TransitEpoch-bkErr1</th>\n",
       "      <th>TransitEpoch-bkErr2</th>\n",
       "      <th>ImpactParameter</th>\n",
       "      <th>ImpactParameterErr1</th>\n",
       "      <th>ImpactParameterErr2</th>\n",
       "      <th>TransitDuration.[Hours]</th>\n",
       "      <th>...</th>\n",
       "      <th>StellarSurfaceGravityErr1</th>\n",
       "      <th>StellarSurfaceGravityErr2</th>\n",
       "      <th>StellarRadius</th>\n",
       "      <th>StellarRadiusErr1</th>\n",
       "      <th>StellarRadiusErr2</th>\n",
       "      <th>RA.[deg]</th>\n",
       "      <th>Dec.[deg]</th>\n",
       "      <th>KeplerMagnitude.[mag]</th>\n",
       "      <th>ExoplanetCandidate</th>\n",
       "      <th>ExoplanetConfirmed</th>\n",
       "    </tr>\n",
       "  </thead>\n",
       "  <tbody>\n",
       "    <tr>\n",
       "      <th>0</th>\n",
       "      <td>2.470613</td>\n",
       "      <td>1.900000e-08</td>\n",
       "      <td>-1.900000e-08</td>\n",
       "      <td>122.763301</td>\n",
       "      <td>0.000006</td>\n",
       "      <td>-0.000006</td>\n",
       "      <td>0.8186</td>\n",
       "      <td>0.0003</td>\n",
       "      <td>-0.0006</td>\n",
       "      <td>1.74259</td>\n",
       "      <td>...</td>\n",
       "      <td>0.025</td>\n",
       "      <td>-0.025</td>\n",
       "      <td>0.950</td>\n",
       "      <td>0.020</td>\n",
       "      <td>-0.020</td>\n",
       "      <td>286.80847</td>\n",
       "      <td>49.316399</td>\n",
       "      <td>11.338</td>\n",
       "      <td>0</td>\n",
       "      <td>1</td>\n",
       "    </tr>\n",
       "    <tr>\n",
       "      <th>1</th>\n",
       "      <td>2.204735</td>\n",
       "      <td>3.800000e-08</td>\n",
       "      <td>-3.800000e-08</td>\n",
       "      <td>121.358572</td>\n",
       "      <td>0.000014</td>\n",
       "      <td>-0.000014</td>\n",
       "      <td>0.0010</td>\n",
       "      <td>0.0111</td>\n",
       "      <td>-0.0010</td>\n",
       "      <td>3.88216</td>\n",
       "      <td>...</td>\n",
       "      <td>0.011</td>\n",
       "      <td>-0.011</td>\n",
       "      <td>1.991</td>\n",
       "      <td>0.018</td>\n",
       "      <td>-0.018</td>\n",
       "      <td>292.24728</td>\n",
       "      <td>47.969521</td>\n",
       "      <td>10.463</td>\n",
       "      <td>0</td>\n",
       "      <td>1</td>\n",
       "    </tr>\n",
       "    <tr>\n",
       "      <th>2</th>\n",
       "      <td>4.887803</td>\n",
       "      <td>1.770000e-07</td>\n",
       "      <td>-1.770000e-07</td>\n",
       "      <td>124.813141</td>\n",
       "      <td>0.000028</td>\n",
       "      <td>-0.000028</td>\n",
       "      <td>0.0260</td>\n",
       "      <td>0.0486</td>\n",
       "      <td>-0.0260</td>\n",
       "      <td>2.36386</td>\n",
       "      <td>...</td>\n",
       "      <td>0.011</td>\n",
       "      <td>-0.041</td>\n",
       "      <td>0.765</td>\n",
       "      <td>0.030</td>\n",
       "      <td>-0.022</td>\n",
       "      <td>297.70935</td>\n",
       "      <td>48.080853</td>\n",
       "      <td>9.174</td>\n",
       "      <td>0</td>\n",
       "      <td>1</td>\n",
       "    </tr>\n",
       "    <tr>\n",
       "      <th>3</th>\n",
       "      <td>3.849372</td>\n",
       "      <td>1.304000e-06</td>\n",
       "      <td>-1.304000e-06</td>\n",
       "      <td>157.526738</td>\n",
       "      <td>0.000269</td>\n",
       "      <td>-0.000269</td>\n",
       "      <td>0.9193</td>\n",
       "      <td>0.0059</td>\n",
       "      <td>-0.0071</td>\n",
       "      <td>2.66050</td>\n",
       "      <td>...</td>\n",
       "      <td>0.205</td>\n",
       "      <td>-0.107</td>\n",
       "      <td>2.992</td>\n",
       "      <td>0.469</td>\n",
       "      <td>-0.743</td>\n",
       "      <td>294.35654</td>\n",
       "      <td>38.947380</td>\n",
       "      <td>11.432</td>\n",
       "      <td>0</td>\n",
       "      <td>1</td>\n",
       "    </tr>\n",
       "    <tr>\n",
       "      <th>4</th>\n",
       "      <td>4.780328</td>\n",
       "      <td>8.760000e-07</td>\n",
       "      <td>-8.760000e-07</td>\n",
       "      <td>132.974137</td>\n",
       "      <td>0.000152</td>\n",
       "      <td>-0.000152</td>\n",
       "      <td>0.9516</td>\n",
       "      <td>0.0011</td>\n",
       "      <td>-0.0023</td>\n",
       "      <td>2.03490</td>\n",
       "      <td>...</td>\n",
       "      <td>0.011</td>\n",
       "      <td>-0.011</td>\n",
       "      <td>1.747</td>\n",
       "      <td>0.042</td>\n",
       "      <td>-0.042</td>\n",
       "      <td>289.73972</td>\n",
       "      <td>44.647419</td>\n",
       "      <td>11.665</td>\n",
       "      <td>1</td>\n",
       "      <td>1</td>\n",
       "    </tr>\n",
       "  </tbody>\n",
       "</table>\n",
       "<p>5 rows × 37 columns</p>\n",
       "</div>"
      ],
      "text/plain": [
       "   OrbitalPeriod.[Days]  OrbitalPeriodErr1.[Days]  OrbitalPeriodErr2.[Days]  \\\n",
       "0              2.470613              1.900000e-08             -1.900000e-08   \n",
       "1              2.204735              3.800000e-08             -3.800000e-08   \n",
       "2              4.887803              1.770000e-07             -1.770000e-07   \n",
       "3              3.849372              1.304000e-06             -1.304000e-06   \n",
       "4              4.780328              8.760000e-07             -8.760000e-07   \n",
       "\n",
       "   TransitEpoch-bk  TransitEpoch-bkErr1  TransitEpoch-bkErr2  ImpactParameter  \\\n",
       "0       122.763301             0.000006            -0.000006           0.8186   \n",
       "1       121.358572             0.000014            -0.000014           0.0010   \n",
       "2       124.813141             0.000028            -0.000028           0.0260   \n",
       "3       157.526738             0.000269            -0.000269           0.9193   \n",
       "4       132.974137             0.000152            -0.000152           0.9516   \n",
       "\n",
       "   ImpactParameterErr1  ImpactParameterErr2  TransitDuration.[Hours]  ...  \\\n",
       "0               0.0003              -0.0006                  1.74259  ...   \n",
       "1               0.0111              -0.0010                  3.88216  ...   \n",
       "2               0.0486              -0.0260                  2.36386  ...   \n",
       "3               0.0059              -0.0071                  2.66050  ...   \n",
       "4               0.0011              -0.0023                  2.03490  ...   \n",
       "\n",
       "   StellarSurfaceGravityErr1  StellarSurfaceGravityErr2  StellarRadius  \\\n",
       "0                      0.025                     -0.025          0.950   \n",
       "1                      0.011                     -0.011          1.991   \n",
       "2                      0.011                     -0.041          0.765   \n",
       "3                      0.205                     -0.107          2.992   \n",
       "4                      0.011                     -0.011          1.747   \n",
       "\n",
       "   StellarRadiusErr1  StellarRadiusErr2   RA.[deg]  Dec.[deg]  \\\n",
       "0              0.020             -0.020  286.80847  49.316399   \n",
       "1              0.018             -0.018  292.24728  47.969521   \n",
       "2              0.030             -0.022  297.70935  48.080853   \n",
       "3              0.469             -0.743  294.35654  38.947380   \n",
       "4              0.042             -0.042  289.73972  44.647419   \n",
       "\n",
       "   KeplerMagnitude.[mag]  ExoplanetCandidate  ExoplanetConfirmed  \n",
       "0                 11.338                   0                   1  \n",
       "1                 10.463                   0                   1  \n",
       "2                  9.174                   0                   1  \n",
       "3                 11.432                   0                   1  \n",
       "4                 11.665                   1                   1  \n",
       "\n",
       "[5 rows x 37 columns]"
      ]
     },
     "execution_count": 4,
     "metadata": {},
     "output_type": "execute_result"
    }
   ],
   "source": [
    "df.drop(columns=['KeplerName','KOIName','EquilibriumTemperatureErr1.[K]', 'StellarEffectiveTemperatureErr2.[K]',\n",
    "                 'KepID','ExoplanetArchiveDisposition','ExoplanetDispositionKepler',\n",
    "                 'NotTransit-LikeFalsePositiveFlag','koi_fpflag_ss','CentroidOffsetFalsePositiveFlag',\n",
    "                 'EphemerisMatchIndicatesContaminationFalsePositiveFlag','TCEDeliveryName', 'EquilibriumTemperatureErr2.[K]', 'DispositionScore'], inplace=True)\n",
    "df.head()"
   ]
  },
  {
   "cell_type": "markdown",
   "metadata": {},
   "source": [
    "Drop rows from dataframe that include Nan value"
   ]
  },
  {
   "cell_type": "code",
   "execution_count": 5,
   "metadata": {},
   "outputs": [
    {
     "data": {
      "text/plain": [
       "(7470, 37)"
      ]
     },
     "execution_count": 5,
     "metadata": {},
     "output_type": "execute_result"
    }
   ],
   "source": [
    "df.isna().any()\n",
    "df.shape"
   ]
  },
  {
   "cell_type": "code",
   "execution_count": 6,
   "metadata": {},
   "outputs": [
    {
     "data": {
      "text/plain": [
       "(7291, 37)"
      ]
     },
     "execution_count": 6,
     "metadata": {},
     "output_type": "execute_result"
    }
   ],
   "source": [
    "# Drop the rows that include Nan\n",
    "df_cleaned = df.dropna()\n",
    "df_cleaned.shape"
   ]
  },
  {
   "cell_type": "markdown",
   "metadata": {},
   "source": [
    "# Features and labels"
   ]
  },
  {
   "cell_type": "code",
   "execution_count": 7,
   "metadata": {},
   "outputs": [],
   "source": [
    "# Create a feature matrix X and label vector y.\n",
    "y = df_cleaned['ExoplanetCandidate'].to_numpy()\n",
    "X = df_cleaned.drop(columns=['ExoplanetCandidate', 'ExoplanetConfirmed']).to_numpy()\n",
    "# Create test and training sets\n",
    "X_train, X_test, y_train, y_test = train_test_split(X, y, random_state=1, test_size=.40)"
   ]
  },
  {
   "cell_type": "code",
   "execution_count": 8,
   "metadata": {},
   "outputs": [],
   "source": [
    "# Standardize the features\n",
    "scaler = StandardScaler()\n",
    "X_train = scaler.fit_transform(X_train)\n",
    "X_test = scaler.transform(X_test)"
   ]
  },
  {
   "cell_type": "markdown",
   "metadata": {},
   "source": [
    "Features in feature matrix"
   ]
  },
  {
   "cell_type": "code",
   "execution_count": 9,
   "metadata": {},
   "outputs": [
    {
     "name": "stdout",
     "output_type": "stream",
     "text": [
      "OrbitalPeriod.[Days]\n",
      "OrbitalPeriodErr1.[Days]\n",
      "OrbitalPeriodErr2.[Days]\n",
      "TransitEpoch-bk\n",
      "TransitEpoch-bkErr1\n",
      "TransitEpoch-bkErr2\n",
      "ImpactParameter\n",
      "ImpactParameterErr1\n",
      "ImpactParameterErr2\n",
      "TransitDuration.[Hours]\n",
      "TransitDurationErr1.[Hours]\n",
      "TransitDurationErr2.[Hours]\n",
      "TransitDepth.[ppm]\n",
      "TransitDepthErr1.[ppm]\n",
      "TransitDepthErr2.[ppm]\n",
      "PlanetaryRadius\n",
      "PlanetaryRadiusErr1\n",
      "PlanetaryRadiusErr2\n",
      "EquilibriumTemperature.[K]\n",
      "InsolationFlux\n",
      "InsolationFluxErr1\n",
      "InsolationFlux2\n",
      "TransitSignalToNoise\n",
      "TCEPlanetNumber\n",
      "StellarEffectiveTemperature.[K]\n",
      "StellarEffectiveTemperatureErr1.[K]\n",
      "StellarSurfaceGravity\n",
      "StellarSurfaceGravityErr1\n",
      "StellarSurfaceGravityErr2\n",
      "StellarRadius\n",
      "StellarRadiusErr1\n",
      "StellarRadiusErr2\n",
      "RA.[deg]\n",
      "Dec.[deg]\n",
      "KeplerMagnitude.[mag]\n"
     ]
    }
   ],
   "source": [
    "for column in df_cleaned.drop(columns=['ExoplanetCandidate', 'ExoplanetConfirmed']).columns:\n",
    "    print(column)"
   ]
  },
  {
   "cell_type": "markdown",
   "metadata": {},
   "source": [
    "# Logistic regression model\n",
    "Create a logistic regression model and train it with scaled data."
   ]
  },
  {
   "cell_type": "code",
   "execution_count": 10,
   "metadata": {},
   "outputs": [
    {
     "name": "stdout",
     "output_type": "stream",
     "text": [
      "Accuracy Score:  0.786767226602674\n"
     ]
    }
   ],
   "source": [
    "# Create a logistic regression model\n",
    "clf = LogisticRegression(C=100, max_iter=1000)\n",
    "clf.fit(X_train, y_train) # Fit the model\n",
    "y_pred = clf.predict(X_test) # Predict labels\n",
    "# View accuracy score\n",
    "print(\"Accuracy Score: \", accuracy_score(y_test, y_pred))"
   ]
  },
  {
   "cell_type": "code",
   "execution_count": 11,
   "metadata": {},
   "outputs": [
    {
     "data": {
      "image/png": "[encoded data removed]",
      "text/plain": [
       "<Figure size 640x480 with 2 Axes>"
      ]
     },
     "metadata": {},
     "output_type": "display_data"
    },
    {
     "data": {
      "text/plain": [
       "0.11142857142857143"
      ]
     },
     "execution_count": 11,
     "metadata": {},
     "output_type": "execute_result"
    }
   ],
   "source": [
    "# Plot the confusion matrix\n",
    "confusionMatrix = confusion_matrix(y_test, y_pred)\n",
    "sns.heatmap(confusionMatrix, annot=True, fmt='d')\n",
    "plt.xlabel('Predicted')\n",
    "plt.ylabel('Actual')\n",
    "plt.show()\n",
    "# compute f1 score\n",
    "f1_score(y_test, y_pred)\n"
   ]
  },
  {
   "cell_type": "code",
   "execution_count": 12,
   "metadata": {},
   "outputs": [
    {
     "name": "stdout",
     "output_type": "stream",
     "text": [
      "Classification Report: \n",
      "               precision    recall  f1-score   support\n",
      "\n",
      "           0       0.79      0.99      0.88      2287\n",
      "           1       0.56      0.06      0.11       630\n",
      "\n",
      "    accuracy                           0.79      2917\n",
      "   macro avg       0.67      0.52      0.50      2917\n",
      "weighted avg       0.74      0.79      0.71      2917\n",
      "\n"
     ]
    }
   ],
   "source": [
    "# Classification report\n",
    "print(\"Classification Report: \\n\", classification_report(y_test, y_pred))"
   ]
  },
  {
   "cell_type": "code",
   "execution_count": 16,
   "metadata": {},
   "outputs": [
    {
     "name": "stdout",
     "output_type": "stream",
     "text": [
      "Logistic Regression Loss:  nan\n"
     ]
    },
    {
     "name": "stderr",
     "output_type": "stream",
     "text": [
      "/var/folders/64/vx10yygj1v12t39t1vkm7k5h0000gn/T/ipykernel_73324/4013952028.py:11: RuntimeWarning: divide by zero encountered in log\n",
      "  logisticRegLoss += np.array(y_test[i] * np.log(y_pred_proba[i][0]) + (1 - y_test[i])).dot(np.log(1 - y_pred_proba[i][0]))\n"
     ]
    },
    {
     "data": {
      "text/plain": [
       "'for i in range(len(y_pred)):\\n    logisticRegLoss += (y_test[i] * np.log(y_pred_proba[i]) + (1 - y_test[i]) * np.log(1 - y_pred_proba[i]))\\nlogisticRegLoss = -np.mean(logisticRegLoss)\\nprint(\"Logistic Regression Loss: \", logisticRegLoss)'"
      ]
     },
     "execution_count": 16,
     "metadata": {},
     "output_type": "execute_result"
    }
   ],
   "source": [
    "# Is there a ready loss funtion in sklearn?\n",
    "# https://scikit-learn.org/stable/modules/generated/sklearn.linear_model.LogisticRegression.html\n",
    "logisticRegLoss = 0\n",
    "# q: why does this give out nan? a: because y_pred is not a probability\n",
    "# q: how to get the probability? a: use predict_proba\n",
    "# q: how to multiply numpy w: use np.dot\n",
    "# Give an example how to multiply numpy arrays\n",
    "\n",
    "y_pred_proba = clf.predict_proba(X_test)\n",
    "for i in range(len(y_test)):    \n",
    "    logisticRegLoss += np.array(y_test[i] * np.log(y_pred_proba[i][0]) + (1 - y_test[i])).dot(np.log(1 - y_pred_proba[i][0]))\n",
    "logisticRegLoss = -np.mean(logisticRegLoss)\n",
    "print(\"Logistic Regression Loss: \", logisticRegLoss)\n",
    "\n",
    "\n",
    "\"\"\"for i in range(len(y_pred)):\n",
    "    logisticRegLoss += (y_test[i] * np.log(y_pred_proba[i]) + (1 - y_test[i]) * np.log(1 - y_pred_proba[i]))\n",
    "logisticRegLoss = -np.mean(logisticRegLoss)\n",
    "print(\"Logistic Regression Loss: \", logisticRegLoss)\"\"\""
   ]
  },
  {
   "cell_type": "code",
   "execution_count": 14,
   "metadata": {},
   "outputs": [
    {
     "data": {
      "text/plain": [
       "0.7140898183064792"
      ]
     },
     "execution_count": 14,
     "metadata": {},
     "output_type": "execute_result"
    }
   ],
   "source": [
    "# PCA\n",
    "pca = PCA(n_components=2)\n",
    "X_train_pca = pca.fit_transform(X_train)\n",
    "X_test_pca = pca.transform(X_test)\n",
    "clf_pca = LogisticRegression(C=100, max_iter=1000, class_weight='balanced')\n",
    "clf_pca.fit(X_train_pca, y_train)\n",
    "y_pred_pca = clf_pca.predict(X_test_pca)\n",
    "accuracy_score(y_test, y_pred_pca)\n"
   ]
  },
  {
   "cell_type": "markdown",
   "metadata": {},
   "source": []
  }
 ],
 "metadata": {
  "kernelspec": {
   "display_name": "Python 3",
   "language": "python",
   "name": "python3"
  },
  "language_info": {
   "codemirror_mode": {
    "name": "ipython",
    "version": 3
   },
   "file_extension": ".py",
   "mimetype": "text/x-python",
   "name": "python",
   "nbconvert_exporter": "python",
   "pygments_lexer": "ipython3",
   "version": "3.11.1"
  },
  "orig_nbformat": 4
 },
 "nbformat": 4,
 "nbformat_minor": 2
}
