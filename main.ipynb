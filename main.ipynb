{
 "cells": [
  {
   "cell_type": "markdown",
   "metadata": {},
   "source": [
    "# Machine Learning project\n",
    "- Validate exoplanets Kepler disposition with machine learning methods"
   ]
  },
  {
   "cell_type": "code",
   "execution_count": 90,
   "metadata": {},
   "outputs": [],
   "source": [
    "import numpy as np\n",
    "import pandas as pd\n",
    "import matplotlib.pyplot as plt\n",
    "import seaborn as sns\n",
    "\n",
    "from sklearn.linear_model import LogisticRegression\n",
    "from sklearn.metrics import log_loss, accuracy_score, confusion_matrix, f1_score, classification_report\n",
    "from sklearn.model_selection import train_test_split\n",
    "from sklearn.preprocessing import StandardScaler, PolynomialFeatures\n",
    "\n",
    "from sklearn.neural_network import MLPClassifier"
   ]
  },
  {
   "cell_type": "markdown",
   "metadata": {},
   "source": [
    "## Dataset\n"
   ]
  },
  {
   "cell_type": "code",
   "execution_count": 91,
   "metadata": {},
   "outputs": [
    {
     "name": "stdout",
     "output_type": "stream",
     "text": [
      "Amount of the columns in the dataset 49\n"
     ]
    }
   ],
   "source": [
    "df = pd.read_csv('q1_q17_dr24_koi_2023.09.19_04.32.41.csv')\n",
    "# Rename the columns into more readable names\n",
    "df.columns =['KepID',\"KOIName\",\"KeplerName\",\"ExoplanetArchiveDisposition\",\n",
    "\"ExoplanetDispositionKepler\",\"DispositionScore\",\"NotTransit-LikeFalsePositiveFlag\",\n",
    "\"koi_fpflag_ss\",\"CentroidOffsetFalsePositiveFlag\",\"EphemerisMatchIndicatesContaminationFalsePositiveFlag\",\n",
    "\"OrbitalPeriod.[Days]\",\"OrbitalPeriodErr1.[Days]\",\"OrbitalPeriodErr2.[Days]\",\n",
    "\"TransitEpoch-bk\",\"TransitEpoch-bkErr1\",\"TransitEpoch-bkErr2\",\n",
    "\"ImpactParameter\",\"ImpactParameterErr1\",\"ImpactParameterErr2\",\n",
    "\"TransitDuration.[Hours]\",\"TransitDurationErr1.[Hours]\",\"TransitDurationErr2.[Hours]\",\n",
    "\"TransitDepth.[ppm]\",\"TransitDepthErr1.[ppm]\",\"TransitDepthErr2.[ppm]\",\n",
    "\"PlanetaryRadius\",\"PlanetaryRadiusErr1\",\"PlanetaryRadiusErr2\",\n",
    "\"EquilibriumTemperature.[K]\",\"EquilibriumTemperatureErr1.[K]\",\"EquilibriumTemperatureErr2.[K]\",\n",
    "\"InsolationFlux\",\"InsolationFluxErr1\",\"InsolationFlux2\",\n",
    "\"TransitSignalToNoise\",\n",
    "\"TCEPlanetNumber\",\"TCEDeliveryName\",\n",
    "\"StellarEffectiveTemperature.[K]\",\"StellarEffectiveTemperatureErr1.[K]\",\"StellarEffectiveTemperatureErr2.[K]\",\n",
    "\"StellarSurfaceGravity\",\"StellarSurfaceGravityErr1\",\"StellarSurfaceGravityErr2\",\n",
    "\"StellarRadius\",\"StellarRadiusErr1\",\"StellarRadiusErr2\",\n",
    "\"RA.[deg]\",\"Dec.[deg]\",\"KeplerMagnitude.[mag]\"]\n",
    "\n",
    "print(\"Amount of the columns in the dataset\", len(df.columns))"
   ]
  },
  {
   "cell_type": "markdown",
   "metadata": {},
   "source": [
    "# Modify dataframe\n",
    "Modify and exoplanets disposition calculated by Kepler into binary form. \n",
    "This will be our label vector."
   ]
  },
  {
   "cell_type": "code",
   "execution_count": 92,
   "metadata": {},
   "outputs": [],
   "source": [
    "df['ExoplanetCandidate'] = df['ExoplanetDispositionKepler'].apply(lambda x: 0 if x == 'FALSE POSITIVE' else 1)"
   ]
  },
  {
   "cell_type": "markdown",
   "metadata": {},
   "source": [
    "Clean the dataframe"
   ]
  },
  {
   "cell_type": "code",
   "execution_count": 93,
   "metadata": {},
   "outputs": [
    {
     "data": {
      "text/html": [
       "<div>\n",
       "<style scoped>\n",
       "    .dataframe tbody tr th:only-of-type {\n",
       "        vertical-align: middle;\n",
       "    }\n",
       "\n",
       "    .dataframe tbody tr th {\n",
       "        vertical-align: top;\n",
       "    }\n",
       "\n",
       "    .dataframe thead th {\n",
       "        text-align: right;\n",
       "    }\n",
       "</style>\n",
       "<table border=\"1\" class=\"dataframe\">\n",
       "  <thead>\n",
       "    <tr style=\"text-align: right;\">\n",
       "      <th></th>\n",
       "      <th>OrbitalPeriod.[Days]</th>\n",
       "      <th>ImpactParameter</th>\n",
       "      <th>TransitDuration.[Hours]</th>\n",
       "      <th>TransitDepth.[ppm]</th>\n",
       "      <th>PlanetaryRadius</th>\n",
       "      <th>EquilibriumTemperature.[K]</th>\n",
       "      <th>InsolationFlux</th>\n",
       "      <th>TransitSignalToNoise</th>\n",
       "      <th>StellarSurfaceGravity</th>\n",
       "      <th>RA.[deg]</th>\n",
       "      <th>Dec.[deg]</th>\n",
       "      <th>KeplerMagnitude.[mag]</th>\n",
       "      <th>ExoplanetCandidate</th>\n",
       "    </tr>\n",
       "  </thead>\n",
       "  <tbody>\n",
       "    <tr>\n",
       "      <th>0</th>\n",
       "      <td>2.470613</td>\n",
       "      <td>0.8186</td>\n",
       "      <td>1.74259</td>\n",
       "      <td>14186.0</td>\n",
       "      <td>12.85</td>\n",
       "      <td>1344.0</td>\n",
       "      <td>772.22</td>\n",
       "      <td>6802.0</td>\n",
       "      <td>4.455</td>\n",
       "      <td>286.80847</td>\n",
       "      <td>49.316399</td>\n",
       "      <td>11.338</td>\n",
       "      <td>1</td>\n",
       "    </tr>\n",
       "    <tr>\n",
       "      <th>1</th>\n",
       "      <td>2.204735</td>\n",
       "      <td>0.0010</td>\n",
       "      <td>3.88216</td>\n",
       "      <td>6690.6</td>\n",
       "      <td>16.39</td>\n",
       "      <td>2025.0</td>\n",
       "      <td>3973.70</td>\n",
       "      <td>6714.5</td>\n",
       "      <td>4.021</td>\n",
       "      <td>292.24728</td>\n",
       "      <td>47.969521</td>\n",
       "      <td>10.463</td>\n",
       "      <td>1</td>\n",
       "    </tr>\n",
       "    <tr>\n",
       "      <th>2</th>\n",
       "      <td>4.887803</td>\n",
       "      <td>0.0260</td>\n",
       "      <td>2.36386</td>\n",
       "      <td>4342.1</td>\n",
       "      <td>4.84</td>\n",
       "      <td>801.0</td>\n",
       "      <td>97.10</td>\n",
       "      <td>2207.8</td>\n",
       "      <td>4.590</td>\n",
       "      <td>297.70935</td>\n",
       "      <td>48.080853</td>\n",
       "      <td>9.174</td>\n",
       "      <td>1</td>\n",
       "    </tr>\n",
       "    <tr>\n",
       "      <th>3</th>\n",
       "      <td>3.849372</td>\n",
       "      <td>0.9193</td>\n",
       "      <td>2.66050</td>\n",
       "      <td>1317.3</td>\n",
       "      <td>13.10</td>\n",
       "      <td>2035.0</td>\n",
       "      <td>4055.29</td>\n",
       "      <td>262.6</td>\n",
       "      <td>3.657</td>\n",
       "      <td>294.35654</td>\n",
       "      <td>38.947380</td>\n",
       "      <td>11.432</td>\n",
       "      <td>1</td>\n",
       "    </tr>\n",
       "    <tr>\n",
       "      <th>4</th>\n",
       "      <td>4.780328</td>\n",
       "      <td>0.9516</td>\n",
       "      <td>2.03490</td>\n",
       "      <td>977.2</td>\n",
       "      <td>7.07</td>\n",
       "      <td>1396.0</td>\n",
       "      <td>898.71</td>\n",
       "      <td>383.4</td>\n",
       "      <td>4.003</td>\n",
       "      <td>289.73972</td>\n",
       "      <td>44.647419</td>\n",
       "      <td>11.665</td>\n",
       "      <td>1</td>\n",
       "    </tr>\n",
       "  </tbody>\n",
       "</table>\n",
       "</div>"
      ],
      "text/plain": [
       "   OrbitalPeriod.[Days]  ImpactParameter  TransitDuration.[Hours]  \\\n",
       "0              2.470613           0.8186                  1.74259   \n",
       "1              2.204735           0.0010                  3.88216   \n",
       "2              4.887803           0.0260                  2.36386   \n",
       "3              3.849372           0.9193                  2.66050   \n",
       "4              4.780328           0.9516                  2.03490   \n",
       "\n",
       "   TransitDepth.[ppm]  PlanetaryRadius  EquilibriumTemperature.[K]  \\\n",
       "0             14186.0            12.85                      1344.0   \n",
       "1              6690.6            16.39                      2025.0   \n",
       "2              4342.1             4.84                       801.0   \n",
       "3              1317.3            13.10                      2035.0   \n",
       "4               977.2             7.07                      1396.0   \n",
       "\n",
       "   InsolationFlux  TransitSignalToNoise  StellarSurfaceGravity   RA.[deg]  \\\n",
       "0          772.22                6802.0                  4.455  286.80847   \n",
       "1         3973.70                6714.5                  4.021  292.24728   \n",
       "2           97.10                2207.8                  4.590  297.70935   \n",
       "3         4055.29                 262.6                  3.657  294.35654   \n",
       "4          898.71                 383.4                  4.003  289.73972   \n",
       "\n",
       "   Dec.[deg]  KeplerMagnitude.[mag]  ExoplanetCandidate  \n",
       "0  49.316399                 11.338                   1  \n",
       "1  47.969521                 10.463                   1  \n",
       "2  48.080853                  9.174                   1  \n",
       "3  38.947380                 11.432                   1  \n",
       "4  44.647419                 11.665                   1  "
      ]
     },
     "execution_count": 93,
     "metadata": {},
     "output_type": "execute_result"
    }
   ],
   "source": [
    "\"\"\"\n",
    "Selected columns:\n",
    "\"OrbitalPeriod.[Days]\",\n",
    "\"TransitEpoch-bk\",\n",
    "\"ImpactParameter\",\n",
    "\"TransitDuration.[Hours]\",\n",
    "\"TransitDepth.[ppm]\",\n",
    "\"PlanetaryRadius\"\n",
    "\"EquilibriumTemperature.[K]\",\n",
    "\"InsolationFlux\",\n",
    "\"TransitSignalToNoise\",\n",
    "\"StellarSurfaceGravity\",\n",
    "\"RA.[deg]\",\"Dec.[deg]\",\"KeplerMagnitude.[mag]\"]\"\"\"\n",
    "\n",
    "df = df.drop(columns=['KepID',\"KOIName\",\"KeplerName\",\"ExoplanetArchiveDisposition\",\n",
    "\"ExoplanetDispositionKepler\",\"DispositionScore\",\"TransitEpoch-bk\",\"NotTransit-LikeFalsePositiveFlag\",\n",
    "\"koi_fpflag_ss\",\"CentroidOffsetFalsePositiveFlag\",\"EphemerisMatchIndicatesContaminationFalsePositiveFlag\",\n",
    "\"OrbitalPeriodErr1.[Days]\",\"OrbitalPeriodErr2.[Days]\",\n",
    "\"TransitEpoch-bkErr1\",\"TransitEpoch-bkErr2\",\n",
    "\"ImpactParameterErr1\",\"ImpactParameterErr2\",\n",
    "\"TransitDurationErr1.[Hours]\",\"TransitDurationErr2.[Hours]\",\n",
    "\"TransitDepthErr1.[ppm]\",\"TransitDepthErr2.[ppm]\",\n",
    "\"PlanetaryRadiusErr1\",\"PlanetaryRadiusErr2\",\n",
    "\"EquilibriumTemperatureErr1.[K]\",\"EquilibriumTemperatureErr2.[K]\",\n",
    "\"InsolationFluxErr1\",\"InsolationFlux2\",\n",
    "\"TCEPlanetNumber\",\"TCEDeliveryName\",\n",
    "\"StellarEffectiveTemperature.[K]\",\"StellarEffectiveTemperatureErr1.[K]\",\"StellarEffectiveTemperatureErr2.[K]\",\n",
    "\"StellarSurfaceGravityErr1\",\"StellarSurfaceGravityErr2\",\n",
    "\"StellarRadius\",\"StellarRadiusErr1\",\"StellarRadiusErr2\"])\n",
    "df.head()"
   ]
  },
  {
   "cell_type": "markdown",
   "metadata": {},
   "source": [
    "Drop rows from dataframe that include Nan value"
   ]
  },
  {
   "cell_type": "code",
   "execution_count": 94,
   "metadata": {},
   "outputs": [
    {
     "name": "stdout",
     "output_type": "stream",
     "text": [
      "Shape of the original data format (7470, 13)\n",
      "Shape of the cleaned data format (7374, 13)\n"
     ]
    }
   ],
   "source": [
    "df.isna().any()\n",
    "print(\"Shape of the original data format\", df.shape)\n",
    "# Drop the rows that include Nan\n",
    "df_cleaned = df.dropna()\n",
    "print(\"Shape of the cleaned data format\", df_cleaned.shape)"
   ]
  },
  {
   "cell_type": "markdown",
   "metadata": {},
   "source": [
    "# Features and labels\n",
    "Lets create 2 validation sets from the cleaned data frame"
   ]
  },
  {
   "cell_type": "code",
   "execution_count": 95,
   "metadata": {},
   "outputs": [],
   "source": [
    "# Create a feature matrix X and label vector y.\n",
    "y = df_cleaned['ExoplanetCandidate'].to_numpy()\n",
    "X = df_cleaned.drop(columns=['ExoplanetCandidate']).to_numpy()\n",
    "# Create test and training sets\n",
    "    # First split the data into train set that contains 75 % \n",
    "    # and test set that contains 25 % of the data\n",
    "X_train, X_test, y_train, y_test = train_test_split(X, y, test_size=0.25)\n",
    "    # Second split the test set into test set that contains 50 % of the test set\n",
    "X_test2, X_val, y_test2, y_val = train_test_split(X_test, y_test, test_size=0.5)"
   ]
  },
  {
   "cell_type": "code",
   "execution_count": 96,
   "metadata": {},
   "outputs": [
    {
     "name": "stdout",
     "output_type": "stream",
     "text": [
      "Number of zeros in ytrain: 2392\n",
      "Number of ones in ytrain: 3138\n",
      "Number of zeros in ytest: 721\n",
      "Number of ones in ytest: 1123\n"
     ]
    }
   ],
   "source": [
    "# Check the distribution of the labels\n",
    "print(\"Number of zeros in ytrain:\", np.sum(y_train == 0))\n",
    "print(\"Number of ones in ytrain:\", np.sum(y_train == 1))\n",
    "# Same for second split\n",
    "print(\"Number of zeros in ytest:\", np.sum(y_test == 0))\n",
    "print(\"Number of ones in ytest:\", np.sum(y_test == 1))"
   ]
  },
  {
   "cell_type": "markdown",
   "metadata": {},
   "source": [
    "Features in feature matrix"
   ]
  },
  {
   "cell_type": "code",
   "execution_count": 97,
   "metadata": {},
   "outputs": [
    {
     "name": "stdout",
     "output_type": "stream",
     "text": [
      "OrbitalPeriod.[Days]\n",
      "ImpactParameter\n",
      "TransitDuration.[Hours]\n",
      "TransitDepth.[ppm]\n",
      "PlanetaryRadius\n",
      "EquilibriumTemperature.[K]\n",
      "InsolationFlux\n",
      "TransitSignalToNoise\n",
      "StellarSurfaceGravity\n",
      "RA.[deg]\n",
      "Dec.[deg]\n",
      "KeplerMagnitude.[mag]\n"
     ]
    }
   ],
   "source": [
    "for column in df_cleaned.drop(columns=['ExoplanetCandidate']).columns:\n",
    "    print(column)"
   ]
  },
  {
   "cell_type": "markdown",
   "metadata": {},
   "source": [
    "# Polynomial logistic regression model\n",
    "Create a logistic regression model, find the best polynomial and train it with scaled data. \n",
    "Print the results. "
   ]
  },
  {
   "cell_type": "code",
   "execution_count": 98,
   "metadata": {},
   "outputs": [
    {
     "name": "stdout",
     "output_type": "stream",
     "text": [
      "Training error:  0.44046406707708646\n",
      "Error for validation set:  0.5115456757047292\n",
      "Degree of the polynomial:  2\n",
      "Accuracy Score with zeros:  0.3947939262472885\n"
     ]
    }
   ],
   "source": [
    "save_regression = [1000]\n",
    "\n",
    "clf_tr_error = []          \n",
    "clf_val_error = []\n",
    "save_clf = []\n",
    "polys = []\n",
    "degrees = range(1,5)\n",
    "\n",
    "for degree in degrees:\n",
    "    # Create a polynomial logistic regression model\n",
    "    clf_poly = LogisticRegression(C=100, max_iter=10000)\n",
    "    \n",
    "    # Choose the degree of the polynomial\n",
    "    poly = PolynomialFeatures(degree)\n",
    "    # Create the polynomial train features\n",
    "    X_train_poly = poly.fit_transform(X_train)\n",
    "    # Scale the data with StandardScaler\n",
    "    scaler = StandardScaler().fit(X_train_poly)\n",
    "    X_train_poly = scaler.transform(X_train_poly)\n",
    "    # Create the polynomial test features\n",
    "    X_val_poly = poly.fit_transform(X_val)\n",
    "    # Scale the data with StandardScaler\n",
    "    scaler = StandardScaler().fit(X_val_poly)\n",
    "    X_val_poly = scaler.transform(X_val_poly)\n",
    "    # Train the model\n",
    "    clf_poly.fit(X_train_poly, y_train) \n",
    "    # Predict labels\n",
    "    y_pred_poly = clf_poly.predict(X_val_poly) \n",
    "    # Calculate probabilities on the validation set\n",
    "    y_prob_val = clf_poly.predict_proba(X_val_poly)\n",
    "    #Calculate the accuracy score\n",
    "    accuracy = accuracy_score(y_val, y_pred_poly)\n",
    "    # Calculate logistic loss for the validation set\n",
    "    val_error = log_loss(y_val, y_prob_val)\n",
    "\n",
    "    # Calculate training error\n",
    "    y_pred_train = clf_poly.predict(X_train_poly)\n",
    "    y_prob_train = clf_poly.predict_proba(X_train_poly)\n",
    "    tr_error = log_loss(y_train, y_prob_train)\n",
    "    polys.append(poly)\n",
    "\n",
    "    clf_tr_error.append(tr_error)\n",
    "    clf_val_error.append(val_error)\n",
    "    save_clf.append(clf_poly)\n",
    "\n",
    "    # Save the model information if the accuracy is better than the previous one\n",
    "    #if save_regression[-1] > val_error:\n",
    "    #    save_regression = [clf_poly, poly, X_train_poly, X_val_poly, y_pred_poly, degree, accuracy, val_error]\n",
    "\n",
    "# clf_poly = save_regression[0]\n",
    "# poly = save_regression[1]\n",
    "# X_train_poly = save_regression[2]\n",
    "\n",
    "poly_degree = np.array(clf_val_error).argmin() + 1\n",
    "\n",
    "clf_poly = save_clf[poly_degree - 1]\n",
    "tr_error = clf_tr_error[poly_degree -1]\n",
    "val_error = clf_val_error[poly_degree-1]\n",
    "poly = polys[poly_degree-1]\n",
    "\n",
    "# Print the results\n",
    "print(\"Training error: \", tr_error)\n",
    "print(\"Error for validation set: \", val_error)\n",
    "# print(\"Accuracy Score: \", save_regression[-2])\n",
    "print(\"Degree of the polynomial: \", poly_degree)\n",
    "zeroLabel = np.zeros(len(y_pred_poly))\n",
    "print(\"Accuracy Score with zeros: \", accuracy_score(y_val, zeroLabel))\n"
   ]
  },
  {
   "cell_type": "markdown",
   "metadata": {},
   "source": [
    "Test the trained model with other test set defined in up. "
   ]
  },
  {
   "cell_type": "code",
   "execution_count": 99,
   "metadata": {},
   "outputs": [
    {
     "name": "stdout",
     "output_type": "stream",
     "text": [
      "Accuracy Score:  0.8188720173535792\n",
      "Test set error:  0.5043124411866204\n"
     ]
    }
   ],
   "source": [
    "X_test_poly = poly.fit_transform(X_test2)\n",
    "scaler = StandardScaler().fit(X_test_poly)\n",
    "X_test_poly = scaler.transform(X_test_poly)\n",
    "\n",
    "y_pred = clf_poly.predict(X_test_poly) # Predict labels\n",
    "accuracy = accuracy_score(y_test2, y_pred)\n",
    "y_prob_test = clf_poly.predict_proba(X_test_poly)\n",
    "tr_error = log_loss(y_test2, y_prob_test)\n",
    "print(\"Accuracy Score: \", accuracy)\n",
    "print(\"Test set error: \", tr_error)"
   ]
  },
  {
   "cell_type": "code",
   "execution_count": 100,
   "metadata": {},
   "outputs": [
    {
     "data": {
      "image/png": "[encoded data removed]",
      "text/plain": [
       "<Figure size 800x600 with 1 Axes>"
      ]
     },
     "metadata": {},
     "output_type": "display_data"
    },
    {
     "data": {
      "text/html": [
       "<div>\n",
       "<style scoped>\n",
       "    .dataframe tbody tr th:only-of-type {\n",
       "        vertical-align: middle;\n",
       "    }\n",
       "\n",
       "    .dataframe tbody tr th {\n",
       "        vertical-align: top;\n",
       "    }\n",
       "\n",
       "    .dataframe thead th {\n",
       "        text-align: right;\n",
       "    }\n",
       "</style>\n",
       "<table border=\"1\" class=\"dataframe\">\n",
       "  <thead>\n",
       "    <tr style=\"text-align: right;\">\n",
       "      <th></th>\n",
       "      <th>Polynomila degree</th>\n",
       "      <th>clf_train_error</th>\n",
       "      <th>clf_val_error</th>\n",
       "    </tr>\n",
       "  </thead>\n",
       "  <tbody>\n",
       "    <tr>\n",
       "      <th>0</th>\n",
       "      <td>1</td>\n",
       "      <td>0.509287</td>\n",
       "      <td>0.517717</td>\n",
       "    </tr>\n",
       "    <tr>\n",
       "      <th>1</th>\n",
       "      <td>2</td>\n",
       "      <td>0.440464</td>\n",
       "      <td>0.511546</td>\n",
       "    </tr>\n",
       "    <tr>\n",
       "      <th>2</th>\n",
       "      <td>3</td>\n",
       "      <td>0.378118</td>\n",
       "      <td>1.306912</td>\n",
       "    </tr>\n",
       "    <tr>\n",
       "      <th>3</th>\n",
       "      <td>4</td>\n",
       "      <td>0.342361</td>\n",
       "      <td>2.063179</td>\n",
       "    </tr>\n",
       "  </tbody>\n",
       "</table>\n",
       "</div>"
      ],
      "text/plain": [
       "   Polynomila degree  clf_train_error  clf_val_error\n",
       "0                  1         0.509287       0.517717\n",
       "1                  2         0.440464       0.511546\n",
       "2                  3         0.378118       1.306912\n",
       "3                  4         0.342361       2.063179"
      ]
     },
     "execution_count": 100,
     "metadata": {},
     "output_type": "execute_result"
    }
   ],
   "source": [
    "plt.figure(figsize=(8, 6))\n",
    "\n",
    "plt.plot(degrees, clf_tr_error, label = 'Train')\n",
    "plt.plot(degrees, clf_val_error,label = 'Valid')\n",
    "plt.xticks(degrees)\n",
    "plt.legend(loc = 'upper left')\n",
    "\n",
    "plt.xlabel('Polynomial Degree')\n",
    "plt.ylabel('Loss')\n",
    "plt.title('Train vs validation loss')\n",
    "plt.show()\n",
    "\n",
    "errors = {\"Polynomila degree\":degrees,\n",
    "          \"clf_train_error\":clf_tr_error,\n",
    "          \"clf_val_error\":clf_val_error,\n",
    "         }\n",
    "pd.DataFrame(errors)"
   ]
  },
  {
   "cell_type": "code",
   "execution_count": 101,
   "metadata": {},
   "outputs": [
    {
     "data": {
      "image/png": "[encoded data removed]",
      "text/plain": [
       "<Figure size 640x480 with 2 Axes>"
      ]
     },
     "metadata": {},
     "output_type": "display_data"
    }
   ],
   "source": [
    "# Plot the confusion matrix\n",
    "confusionMatrix = confusion_matrix(y_test2, y_pred)\n",
    "sns.heatmap(confusionMatrix, annot=True, fmt='d')\n",
    "plt.xlabel('Predicted')\n",
    "plt.ylabel('Actual')\n",
    "plt.show()"
   ]
  },
  {
   "cell_type": "code",
   "execution_count": 102,
   "metadata": {},
   "outputs": [
    {
     "name": "stdout",
     "output_type": "stream",
     "text": [
      "Classification Report: \n",
      "               precision    recall  f1-score   support\n",
      "\n",
      "           0       0.81      0.69      0.75       357\n",
      "           1       0.82      0.90      0.86       565\n",
      "\n",
      "    accuracy                           0.82       922\n",
      "   macro avg       0.82      0.80      0.80       922\n",
      "weighted avg       0.82      0.82      0.82       922\n",
      "\n"
     ]
    }
   ],
   "source": [
    "# Classification report\n",
    "print(\"Classification Report: \\n\", classification_report(y_test2, y_pred))"
   ]
  },
  {
   "cell_type": "markdown",
   "metadata": {},
   "source": [
    "# Deep-learning model\n"
   ]
  },
  {
   "cell_type": "markdown",
   "metadata": {},
   "source": [
    "Create and test deep-learning model with different layers"
   ]
  },
  {
   "cell_type": "code",
   "execution_count": 103,
   "metadata": {},
   "outputs": [
    {
     "name": "stdout",
     "output_type": "stream",
     "text": [
      "Áfter validation, the number of layers is:  12\n"
     ]
    }
   ],
   "source": [
    "## define a list of values for the number of hidden layers\n",
    "num_layers = [1,4,8,12,20,28,36,44,56]    # number of hidden layers ,16,20,28,36,44,56,72\n",
    "num_neurons = 15  # number of neurons in each layer\n",
    "\n",
    "# we will use this variable to store the resulting training errors corresponding to different hidden-layer numbers\n",
    "mlp_tr_error = []          \n",
    "mlp_val_error = []\n",
    "save_mlp = []\n",
    "\n",
    "for i, num in enumerate(num_layers):\n",
    "    hidden_layer_sizes = tuple([num_neurons]*num) # size (num of neurons) of each layer stacked in a tuple\n",
    "    \n",
    "    mlp_regr = MLPClassifier(max_iter=20000, hidden_layer_sizes = hidden_layer_sizes)\n",
    "    mlp_regr.fit(X_train, y_train)\n",
    "    \n",
    "    ## evaluate the trained MLP on both training set and validation set\n",
    "    y_pred_train = mlp_regr.predict(X_train)    # predict on the training set\n",
    "    y_prob_train = mlp_regr.predict_proba(X_train)\n",
    "    tr_error = log_loss(y_train, y_prob_train)    # calculate the training error\n",
    "    y_pred_val = mlp_regr.predict(X_val) # predict values for the validation data \n",
    "    y_prob_val = mlp_regr.predict_proba(X_val)\n",
    "    val_error = log_loss(y_val, y_prob_val) # calculate the validation error\n",
    "    \n",
    "    mlp_tr_error.append(tr_error)\n",
    "    mlp_val_error.append(val_error)\n",
    "    save_mlp.append(mlp_regr)\n",
    "\n",
    "final_index = np.array(mlp_val_error).argmin()\n",
    "number_of_layers = num_layers[final_index]\n",
    "\n",
    "mlp_regr = save_mlp[final_index]\n",
    "\n",
    "print('Áfter validation, the number of layers is: ', number_of_layers)"
   ]
  },
  {
   "cell_type": "code",
   "execution_count": 104,
   "metadata": {},
   "outputs": [
    {
     "data": {
      "image/png": "[encoded data removed]",
      "text/plain": [
       "<Figure size 800x600 with 1 Axes>"
      ]
     },
     "metadata": {},
     "output_type": "display_data"
    },
    {
     "data": {
      "text/html": [
       "<div>\n",
       "<style scoped>\n",
       "    .dataframe tbody tr th:only-of-type {\n",
       "        vertical-align: middle;\n",
       "    }\n",
       "\n",
       "    .dataframe tbody tr th {\n",
       "        vertical-align: top;\n",
       "    }\n",
       "\n",
       "    .dataframe thead th {\n",
       "        text-align: right;\n",
       "    }\n",
       "</style>\n",
       "<table border=\"1\" class=\"dataframe\">\n",
       "  <thead>\n",
       "    <tr style=\"text-align: right;\">\n",
       "      <th></th>\n",
       "      <th>num_hidden_layers</th>\n",
       "      <th>mlp_train_error</th>\n",
       "      <th>mlp_val_error</th>\n",
       "    </tr>\n",
       "  </thead>\n",
       "  <tbody>\n",
       "    <tr>\n",
       "      <th>0</th>\n",
       "      <td>1</td>\n",
       "      <td>3.712773</td>\n",
       "      <td>3.645139</td>\n",
       "    </tr>\n",
       "    <tr>\n",
       "      <th>1</th>\n",
       "      <td>4</td>\n",
       "      <td>2.218465</td>\n",
       "      <td>2.303831</td>\n",
       "    </tr>\n",
       "    <tr>\n",
       "      <th>2</th>\n",
       "      <td>8</td>\n",
       "      <td>0.635941</td>\n",
       "      <td>0.607928</td>\n",
       "    </tr>\n",
       "    <tr>\n",
       "      <th>3</th>\n",
       "      <td>12</td>\n",
       "      <td>0.450039</td>\n",
       "      <td>0.464400</td>\n",
       "    </tr>\n",
       "    <tr>\n",
       "      <th>4</th>\n",
       "      <td>20</td>\n",
       "      <td>0.457601</td>\n",
       "      <td>0.465217</td>\n",
       "    </tr>\n",
       "    <tr>\n",
       "      <th>5</th>\n",
       "      <td>28</td>\n",
       "      <td>0.452608</td>\n",
       "      <td>0.473472</td>\n",
       "    </tr>\n",
       "    <tr>\n",
       "      <th>6</th>\n",
       "      <td>36</td>\n",
       "      <td>0.437617</td>\n",
       "      <td>0.464616</td>\n",
       "    </tr>\n",
       "    <tr>\n",
       "      <th>7</th>\n",
       "      <td>44</td>\n",
       "      <td>0.460397</td>\n",
       "      <td>0.473496</td>\n",
       "    </tr>\n",
       "    <tr>\n",
       "      <th>8</th>\n",
       "      <td>56</td>\n",
       "      <td>0.684038</td>\n",
       "      <td>0.673335</td>\n",
       "    </tr>\n",
       "  </tbody>\n",
       "</table>\n",
       "</div>"
      ],
      "text/plain": [
       "   num_hidden_layers  mlp_train_error  mlp_val_error\n",
       "0                  1         3.712773       3.645139\n",
       "1                  4         2.218465       2.303831\n",
       "2                  8         0.635941       0.607928\n",
       "3                 12         0.450039       0.464400\n",
       "4                 20         0.457601       0.465217\n",
       "5                 28         0.452608       0.473472\n",
       "6                 36         0.437617       0.464616\n",
       "7                 44         0.460397       0.473496\n",
       "8                 56         0.684038       0.673335"
      ]
     },
     "execution_count": 104,
     "metadata": {},
     "output_type": "execute_result"
    }
   ],
   "source": [
    "plt.figure(figsize=(8, 6))\n",
    "\n",
    "plt.plot(num_layers, mlp_tr_error, label = 'Train')\n",
    "plt.plot(num_layers, mlp_val_error,label = 'Valid')\n",
    "plt.xticks(num_layers)\n",
    "plt.legend(loc = 'upper left')\n",
    "\n",
    "plt.xlabel('Layers')\n",
    "plt.ylabel('Loss')\n",
    "plt.title('Train vs validation loss')\n",
    "plt.show()\n",
    "\n",
    "errors = {\"num_hidden_layers\":num_layers,\n",
    "          \"mlp_train_error\":mlp_tr_error,\n",
    "          \"mlp_val_error\":mlp_val_error,\n",
    "         }\n",
    "pd.DataFrame(errors)"
   ]
  },
  {
   "cell_type": "code",
   "execution_count": 105,
   "metadata": {},
   "outputs": [
    {
     "name": "stdout",
     "output_type": "stream",
     "text": [
      "Accuracy Score:  0.7928416485900217\n",
      "Test error 0.46439978024402523\n"
     ]
    }
   ],
   "source": [
    "y_pred_deepLearning = mlp_regr.predict(X_test2) # Predict labels\n",
    "accuracy = accuracy_score(y_test2, y_pred_deepLearning)\n",
    "y_prob_test = mlp_regr.predict_proba(X_val)\n",
    "test_error = log_loss(y_val, y_prob_test) # calculate the validation error\n",
    "print(\"Accuracy Score: \", accuracy)\n",
    "print(\"Test error\", test_error)"
   ]
  },
  {
   "cell_type": "code",
   "execution_count": 106,
   "metadata": {},
   "outputs": [
    {
     "data": {
      "image/png": "[encoded data removed]",
      "text/plain": [
       "<Figure size 640x480 with 2 Axes>"
      ]
     },
     "metadata": {},
     "output_type": "display_data"
    }
   ],
   "source": [
    "# Plot the confusion matrix\n",
    "confusionMatrix = confusion_matrix(y_test2, y_pred_deepLearning)\n",
    "sns.heatmap(confusionMatrix, annot=True, fmt='d')\n",
    "plt.xlabel('Predicted')\n",
    "plt.ylabel('Actual')\n",
    "plt.show()"
   ]
  }
 ],
 "metadata": {
  "kernelspec": {
   "display_name": "Python 3",
   "language": "python",
   "name": "python3"
  },
  "language_info": {
   "codemirror_mode": {
    "name": "ipython",
    "version": 3
   },
   "file_extension": ".py",
   "mimetype": "text/x-python",
   "name": "python",
   "nbconvert_exporter": "python",
   "pygments_lexer": "ipython3",
   "version": "3.11.5"
  },
  "orig_nbformat": 4
 },
 "nbformat": 4,
 "nbformat_minor": 2
}
